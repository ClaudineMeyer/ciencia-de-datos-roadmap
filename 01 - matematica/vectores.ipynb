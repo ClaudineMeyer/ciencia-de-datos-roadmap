{
 "cells": [
  {
   "cell_type": "markdown",
   "metadata": {},
   "source": [
    "# Álgebra Lineal: Vectores\n",
    "\n",
    "## Definición\n",
    "\n",
    "- *Vectores*: Magnitudes con dirección. Se representan con letras minúsculas y flechas encima.\n",
    "\n",
    "## Características\n",
    "- Pueden iniciarse en cualquier punto, aunque comúnmente se grafican desde el origen.\n",
    "- Existen en dos, tres o más dimensiones.\n",
    "\n",
    "## Ejemplos\n",
    "\n",
    "- *Ejemplo Cotidiano*: La velocidad / fuerza / desplazamiento de / sobre un objeto en movimiento.\n",
    "\n",
    "## Operaciones Básicas\n",
    "- *Suma y Resta*: Operaciones fundamentales entre vectores.\n",
    "- *Multiplicación por Escalar*: Escalar la magnitud del vector.\n",
    "\n",
    "## Aplicaciones Prácticas\n",
    "- *Ciencia de Datos e IA*: Fundamentales en análisis de datos y modelado en inteligencia artificial."
   ]
  },
  {
   "cell_type": "code",
   "execution_count": null,
   "metadata": {},
   "outputs": [],
   "source": []
  }
 ],
 "metadata": {
  "language_info": {
   "name": "python"
  }
 },
 "nbformat": 4,
 "nbformat_minor": 2
}
