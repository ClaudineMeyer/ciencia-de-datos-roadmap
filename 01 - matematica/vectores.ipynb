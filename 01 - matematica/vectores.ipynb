{
 "cells": [
  {
   "cell_type": "markdown",
   "metadata": {},
   "source": [
    "# Álgebra Lineal: Vectores\n",
    "\n",
    "## Definición\n",
    "\n",
    "- Magnitudes con dirección. Se representan con letras minúsculas y flechas encima.\n",
    "\n",
    "## Características\n",
    "- Pueden iniciarse en cualquier punto, aunque comúnmente se grafican desde el origen.\n",
    "- Existen en dos, tres o más dimensiones donde cada dimension representa como una componente en el plano y por consiguiente como su letra de eje dentro de una tupla (x, y, z)\n",
    "\n",
    "## Ejemplos\n",
    "\n",
    "- **Ejemplo Cotidiano**: La velocidad / fuerza / desplazamiento de / sobre un objeto en movimiento.\n",
    "\n",
    "## Operaciones Básicas\n",
    "- **Suma y Resta**: Operaciones fundamentales entre vectores.\n",
    "- **Multiplicación por Escalar**: Escalar la magnitud del vector.\n",
    "\n",
    "## Aplicaciones Prácticas\n",
    "- **Ciencia de Datos e IA**: Fundamentales en análisis de datos y modelado en inteligencia artificial."
   ]
  },
  {
   "cell_type": "code",
   "execution_count": null,
   "metadata": {},
   "outputs": [],
   "source": []
  },
  {
   "cell_type": "markdown",
   "metadata": {},
   "source": [
    "# Álgebra Lineal: Espacios Vectoriales en ℝ^n\n",
    "\n",
    "## Definición:\n",
    "- Un espacio vectorial en ℝ^n es un plano o espacio que abarca n dimensiones, donde existen infinitas combinaciones de vectores con n dimensiones.\n",
    "\n",
    "## Características:\n",
    "- Se representan por ℝ^n, donde \"n\" indica la cantidad de dimensiones.\n",
    "- Cumplen con propiedades como la cerradura bajo la suma y la multiplicación por escalares.\n",
    "\n",
    "## Ejemplos:\n",
    "- **Ejemplos en la vida cotidiana**:\n",
    "  - Entornos bidimensionales, como juegos clásicos como Mario Bros.\n",
    "  - Nuestra percepción tridimensional del mundo (altura, longitud y profundidad).\n",
    "\n",
    "## Operaciones Básicas:\n",
    "- Suma entre vectores de igual n: se realiza componente a componente.\n",
    "- Multiplicación por escalares.\n",
    "\n",
    "## Operaciones Prácticas:\n",
    "- En Machine Learning, los espacios vectoriales son esenciales. Por ejemplo, al representar imágenes, cada píxel puede considerarse como una dimensión en un espacio vectorial.\n",
    "  - **Ejemplo detallado:** Supongamos que tenemos dos vectores que representan dos imágenes en escala de grises. La suma de estos vectores podría representar una nueva imagen que es una combinación ponderada de las dos originales."
   ]
  },
  {
   "cell_type": "code",
   "execution_count": null,
   "metadata": {},
   "outputs": [],
   "source": []
  }
 ],
 "metadata": {
  "language_info": {
   "name": "python"
  }
 },
 "nbformat": 4,
 "nbformat_minor": 2
}
